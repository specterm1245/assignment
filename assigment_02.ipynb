{
 "cells": [
  {
   "cell_type": "markdown",
   "metadata": {},
   "source": [
    "Assignment \n",
    "Q1. How do you comment code in Python? What are the different types of comments?\n",
    "\n",
    "ans:in phyrthon we can write comments using the hash symbol(#).There are three \n",
    "    type of comments in phython:single-line comments,multiline-comments,and doc\n",
    "    string comments.Docstring comments are used to documents are used to documents\n",
    "    a module,class, function or method defination.They are written as a string literal\n",
    "    and placed immediately after the defination header.Here's an example of each type of comment:\n",
    "    "
   ]
  },
  {
   "cell_type": "code",
   "execution_count": null,
   "metadata": {},
   "outputs": [],
   "source": [
    "# this is a single line comment\n",
    "\"\"\"\n",
    "this is a multiline comments.\n",
    "it can span multiple lines.\n",
    "\"\"\"\n",
    "def my_function():\n",
    "    \"\"\"\n",
    "    this is discorting comment.\n",
    "    it documents the function.\n",
    "    \"\"\""
   ]
  },
  {
   "cell_type": "markdown",
   "metadata": {},
   "source": [
    " Q2. What are variables in Python? How do you declare and assign values to variables?\n",
    " \n",
    " ans:in phython,we don't need to decleare variables before using them or declear their type.\n",
    "     A variable is created the moment we first assign a value to it.we can assign value to a\n",
    "     variable using the equal sign(=).Here's is an example below:\n",
    "     \n",
    "     "
   ]
  },
  {
   "cell_type": "code",
   "execution_count": null,
   "metadata": {},
   "outputs": [],
   "source": [
    "x=5\n",
    "y=\"john\""
   ]
  },
  {
   "cell_type": "markdown",
   "metadata": {},
   "source": [
    "this is we assign the val;ue 5 to variable x and the string \"jhon\" variable y."
   ]
  },
  {
   "cell_type": "markdown",
   "metadata": {},
   "source": [
    "Q3. How do you convert one data type to another in Python?\n",
    "\n",
    "ans: Here is an example below:"
   ]
  },
  {
   "cell_type": "code",
   "execution_count": null,
   "metadata": {},
   "outputs": [],
   "source": [
    "x=5 #int\n",
    "y=3.8 #float\n",
    "z=\"10\"#str\n",
    "#convert from int to float\n",
    "a=float(x)\n",
    "#convert from float to int\n",
    "y=int(y)\n",
    "#convert from str to int\n",
    "z=int(z)"
   ]
  },
  {
   "cell_type": "markdown",
   "metadata": {},
   "source": [
    "Q4. How do you write and execute a Python script from the command line?\n",
    "\n",
    "ans:To run a script from the command line,we can use the phython command\n",
    "    followed by the name of the script.Here's an example:\n",
    "    suppose we have phython script called myscript.py.To run this\n",
    "    script from the command line,navigate to dictionary where the\n",
    "    script is located type:\n",
    "         \n",
    "         python myscript.py\n",
    "    \n",
    "    this will execute the script and any output\n",
    "    will be displyed in the terminal."
   ]
  },
  {
   "cell_type": "markdown",
   "metadata": {},
   "source": [
    "Q5. Given a list my_list = [1, 2, 3, 4, 5], write the code to slice the list and obtain the sub-list [2, 3]."
   ]
  },
  {
   "cell_type": "code",
   "execution_count": 7,
   "metadata": {},
   "outputs": [],
   "source": [
    "my_list=[1,2,3,4,5]"
   ]
  },
  {
   "cell_type": "code",
   "execution_count": 10,
   "metadata": {},
   "outputs": [
    {
     "name": "stdout",
     "output_type": "stream",
     "text": [
      "[2, 3]\n"
     ]
    }
   ],
   "source": [
    "sub_list=my_list[1:3]\n",
    "print(sub_list)"
   ]
  },
  {
   "cell_type": "markdown",
   "metadata": {},
   "source": [
    " Q6. What is a complex number in mathematics, and how is it represented in Python?\n",
    " \n",
    " ans:in mathematics,a complex number is a number that can be expressed in the form a+bi\n",
    "     where a and b are real numbers and i is the imaginary unit,which satisfies the equation\n",
    "     i^2=-1.complex number are use in many areas of matahematics,science ,engineering.\n",
    "     \n",
    "     in phython,we can represent complex numbers using the complex()\n",
    "     function.The function takes two arguments:The real part and imaginary part.\n",
    "     here is an example below:\n",
    "     \n",
    "    "
   ]
  },
  {
   "cell_type": "code",
   "execution_count": 11,
   "metadata": {},
   "outputs": [
    {
     "name": "stdout",
     "output_type": "stream",
     "text": [
      "(3+4j)\n"
     ]
    }
   ],
   "source": [
    "z= complex(3,4)\n",
    "print(z)"
   ]
  },
  {
   "cell_type": "markdown",
   "metadata": {},
   "source": [
    "Q7. What is the correct way to declare a variable named age and assign the value 25 to it?\n",
    "\n",
    "ans:in phython declear a variable and assign a value to it using the"
   ]
  },
  {
   "cell_type": "code",
   "execution_count": null,
   "metadata": {},
   "outputs": [],
   "source": [
    "name=input(\"enter your name\")\n",
    "age=int(input(\"enter your age\"))\n",
    "print(\"name\")"
   ]
  },
  {
   "cell_type": "markdown",
   "metadata": {},
   "source": [
    "Q8. Declare a variable named price and assign the value 9.99 to it. What data type does this variable  belong to? \n",
    "\n",
    "ans:To declear a variable called price and assign the value 9.99 use the following code:"
   ]
  },
  {
   "cell_type": "code",
   "execution_count": 3,
   "metadata": {},
   "outputs": [
    {
     "data": {
      "text/plain": [
       "float"
      ]
     },
     "execution_count": 3,
     "metadata": {},
     "output_type": "execute_result"
    }
   ],
   "source": [
    "price=9.99\n",
    "type(price)"
   ]
  },
  {
   "cell_type": "markdown",
   "metadata": {},
   "source": [
    "Q9. Create a variable named name and assign your full name to it as a string. How would you print the  value of this variable? \n",
    "\n",
    "ans:To declear a variable called name and assign my full name to it as a string use the following code:"
   ]
  },
  {
   "cell_type": "code",
   "execution_count": 4,
   "metadata": {},
   "outputs": [
    {
     "name": "stdout",
     "output_type": "stream",
     "text": [
      "enter your namejayanta Das\n",
      "name: jayanta Das\n"
     ]
    }
   ],
   "source": [
    "name=input(\"enter your name\")\n",
    "print(\"name:\",name)"
   ]
  },
  {
   "cell_type": "markdown",
   "metadata": {},
   "source": [
    "Q10. Given the string \"Hello, World!\", extract the substring \"World\". \n",
    "\n",
    "ans:To extract the substring\"world\"from the string\"hello world\",we can\n",
    "    use string slicing.use the following code:"
   ]
  },
  {
   "cell_type": "code",
   "execution_count": 7,
   "metadata": {},
   "outputs": [
    {
     "name": "stdout",
     "output_type": "stream",
     "text": [
      "world\n"
     ]
    }
   ],
   "source": [
    "string=\"helloworld\"\n",
    "substring=string[5:]\n",
    "print(substring)"
   ]
  },
  {
   "cell_type": "markdown",
   "metadata": {},
   "source": [
    "Q11. Create a variable named \"is_student\" and assign it a boolean value indicating whether you are  currently a student or not.\n",
    "\n",
    "ans:we can creat a variable name is_student"
   ]
  },
  {
   "cell_type": "code",
   "execution_count": null,
   "metadata": {},
   "outputs": [],
   "source": [
    "is_student=True # or False"
   ]
  }
 ],
 "metadata": {
  "kernelspec": {
   "display_name": "Python 3",
   "language": "python",
   "name": "python3"
  },
  "language_info": {
   "codemirror_mode": {
    "name": "ipython",
    "version": 3
   },
   "file_extension": ".py",
   "mimetype": "text/x-python",
   "name": "python",
   "nbconvert_exporter": "python",
   "pygments_lexer": "ipython3",
   "version": "3.7.0"
  }
 },
 "nbformat": 4,
 "nbformat_minor": 2
}
